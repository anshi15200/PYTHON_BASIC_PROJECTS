{
  "nbformat": 4,
  "nbformat_minor": 0,
  "metadata": {
    "colab": {
      "provenance": []
    },
    "kernelspec": {
      "name": "python3",
      "display_name": "Python 3"
    },
    "language_info": {
      "name": "python"
    }
  },
  "cells": [
    {
      "cell_type": "markdown",
      "source": [
        "## CALCULATOR\n",
        "\n",
        "TASK\n",
        "\n",
        "Design a simple calculator with basic arithmetic operations.\n",
        "Prompt the user to input two numbers and an operation choice.\n",
        "\n",
        "Perform the calculation and display the result."
      ],
      "metadata": {
        "id": "XTaRx4fAnwAh"
      }
    },
    {
      "cell_type": "code",
      "source": [
        "def add(a,b):\n",
        "  return a+b\n",
        "\n",
        "def subtract(a,b):\n",
        "  return a-b\n",
        "\n",
        "def multiply(a,b):\n",
        "  return a*b\n",
        "\n",
        "def divide(a,b):\n",
        "  if b==0:\n",
        "    return \"ERROR, division with zero is not allowed\"\n",
        "  else:\n",
        "   return a/b\n",
        "\n",
        "print(\"Select operation you want to do\")\n",
        "print(\"1.Add\")\n",
        "print(\"2.Subtract\")\n",
        "print(\"3.Multiply\")\n",
        "print(\"4.Divide\")\n",
        "\n",
        "def main():\n",
        "  while True:\n",
        "    choice=input(\"Enter choice(1/2/3/4): \")\n",
        "\n",
        "    if choice in ('1', '2', '3', '4'):\n",
        "      a=float(input(\"enter first number\"))\n",
        "      b=float(input(\"enter second number\"))\n",
        "\n",
        "      if choice==\"1\":\n",
        "        print(a,\"+\",b,\"=\",add(a,b))\n",
        "\n",
        "      elif choice==\"2\":\n",
        "        print(a,\"-\",b,\"=\",subtract(a,b))\n",
        "\n",
        "      elif choice==\"3\":\n",
        "        print(a,\"*\",b,\"=\",multiply(a,b))\n",
        "\n",
        "      elif choice==\"4\":\n",
        "        print(a,\"/\",b,\"=\",divide(a,b))\n",
        "\n",
        "      calc_again = input('''\n",
        "  Do you want to calculate again?\n",
        "  Please type Y for YES or N for NO.\n",
        "  ''')\n",
        "      if calc_again.upper() == 'Y':\n",
        "        continue\n",
        "\n",
        "      elif calc_again.upper() == 'N':\n",
        "        print('See you later.')\n",
        "        break\n",
        "\n",
        "      else:\n",
        "        print(\"Invalid Input\")\n",
        "        continue\n",
        "\n",
        "    else:\n",
        "            print(\"Invalid Input\")\n",
        "            continue\n",
        "\n",
        "main()"
      ],
      "metadata": {
        "colab": {
          "base_uri": "https://localhost:8080/"
        },
        "id": "YTb0ztS2tks8",
        "outputId": "3fac8efc-4530-49d6-8c66-d35d41e0b1e0"
      },
      "execution_count": 3,
      "outputs": [
        {
          "output_type": "stream",
          "name": "stdout",
          "text": [
            "Select operation you want to do\n",
            "1.Add\n",
            "2.Subtract\n",
            "3.Multiply\n",
            "4.Divide\n",
            "Enter choice(1/2/3/4): 1\n",
            "enter first number12\n",
            "enter second number13\n",
            "12.0 + 13.0 = 25.0\n",
            "\n",
            "  Do you want to calculate again?\n",
            "  Please type Y for YES or N for NO.\n",
            "  y\n",
            "Enter choice(1/2/3/4): 2\n",
            "enter first number250\n",
            "enter second number125\n",
            "250.0 - 125.0 = 125.0\n",
            "\n",
            "  Do you want to calculate again?\n",
            "  Please type Y for YES or N for NO.\n",
            "  y\n",
            "Enter choice(1/2/3/4): 3\n",
            "enter first number15\n",
            "enter second number15\n",
            "15.0 * 15.0 = 225.0\n",
            "\n",
            "  Do you want to calculate again?\n",
            "  Please type Y for YES or N for NO.\n",
            "  y\n",
            "Enter choice(1/2/3/4): 4\n",
            "enter first number180\n",
            "enter second number2\n",
            "180.0 / 2.0 = 90.0\n",
            "\n",
            "  Do you want to calculate again?\n",
            "  Please type Y for YES or N for NO.\n",
            "  n\n",
            "See you later.\n"
          ]
        }
      ]
    }
  ]
}