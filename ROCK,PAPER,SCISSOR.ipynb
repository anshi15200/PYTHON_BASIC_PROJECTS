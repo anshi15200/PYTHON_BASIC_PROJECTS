{
  "cells": [
    {
      "cell_type": "markdown",
      "metadata": {
        "id": "V1cS9DjCc-yb"
      },
      "source": [
        "## ROCK, PAPER, SCISSOR GAME"
      ]
    },
    {
      "cell_type": "code",
      "execution_count": 1,
      "metadata": {
        "id": "6ahhQ425hSvD"
      },
      "outputs": [],
      "source": [
        "from random import randint"
      ]
    },
    {
      "cell_type": "code",
      "execution_count": 10,
      "metadata": {
        "colab": {
          "base_uri": "https://localhost:8080/"
        },
        "id": "fjKu3LL2ja5j",
        "outputId": "1b6060f7-dae6-4735-e7ea-8188b84b0644"
      },
      "outputs": [
        {
          "name": "stdout",
          "output_type": "stream",
          "text": [
            "enter your choiceRock\n",
            "you win Rock smashes Scissor\n",
            "Do you want to play again? (yes/no): yes\n",
            "enter your choiceScissor\n",
            "You lose Rock smashes Scissor\n",
            "Do you want to play again? (yes/no): no\n"
          ]
        }
      ],
      "source": [
        "\n",
        "\n",
        "##create a list of play options\n",
        "l=[\"Rock\",\"Paper\",\"Scissor\"]\n",
        "\n",
        "## assigning a random play to the computer\n",
        "\n",
        "while True:\n",
        "    # Assign a random play to the computer\n",
        "    computer = l[randint(0, 2)]\n",
        "\n",
        "## set player to false\n",
        "    player=False\n",
        "    while not player:\n",
        "  ## set player to true\n",
        "     player=input(\"enter your choice\")\n",
        "    if player==computer:\n",
        "     print(\"Game tie\")\n",
        "    elif player==\"Rock\":\n",
        "     if computer==\"Paper\":\n",
        "      print(\"You lose\",computer,\"covers\",player)\n",
        "     else:\n",
        "      print(\"you win\",player,\"smashes\",computer)\n",
        "    elif player== \"Paper\":\n",
        "     if computer ==\"Scissor\":\n",
        "      print(\"you lose\",computer,\"cut\",player)\n",
        "     else:\n",
        "      print(\"you win\",player,\"covers\",computer)\n",
        "    elif player == \"Scissor\":\n",
        "     if computer==\"Rock\":\n",
        "       print(\"You lose\",computer,\"smashes\",player)\n",
        "     else:\n",
        "       print(\"you win\", player,\"cuts\",computer)\n",
        "    else:\n",
        "       print(\"this is not a valid play. May be you write a wrong spelling. please check spelling\")\n",
        "       # Ask the player if they want to play again\n",
        "    play_again = input(\"Do you want to play again? (yes/no): \").lower()\n",
        "    if play_again != 'yes':\n",
        "      break\n",
        "    else:\n",
        "      computer=l[randint(0,2)]"
      ]
    },
    {
      "cell_type": "code",
      "source": [],
      "metadata": {
        "id": "ukTnPxysPxvf"
      },
      "execution_count": null,
      "outputs": []
    }
  ],
  "metadata": {
    "colab": {
      "provenance": []
    },
    "kernelspec": {
      "display_name": "Python 3",
      "name": "python3"
    },
    "language_info": {
      "name": "python"
    }
  },
  "nbformat": 4,
  "nbformat_minor": 0
}