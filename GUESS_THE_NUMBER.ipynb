{
  "nbformat": 4,
  "nbformat_minor": 0,
  "metadata": {
    "colab": {
      "provenance": []
    },
    "kernelspec": {
      "name": "python3",
      "display_name": "Python 3"
    },
    "language_info": {
      "name": "python"
    }
  },
  "cells": [
    {
      "cell_type": "code",
      "source": [
        "## to  generate a number we will use a python module named random\n",
        "import random\n",
        "number=random.randint(1,10)## using random module to generate a nyumber between 1 and 10\n",
        "## defining the user name\n",
        "player_name = input(\"Hello, What's your name?\")\n",
        "\n",
        "print(\"ok\",player_name,\"i am guessing a number between 1 and 10\")\n",
        "##we will create a variable  named number_of_guesses and assign 0 as its initial value\n",
        "number_of_guesses=0\n",
        "# design a while loop\n",
        "while number_of_guesses<5:\n",
        "  ## converting the input we are taking from user to integer as it  is a string value\n",
        "  guess = int(input(\"your guess\"))\n",
        "  ## increamenting the number_of_guesses by 1\n",
        "  number_of_guesses +=1\n",
        "\n",
        "## checking if guess is less than the generated number\n",
        "  if guess < number:\n",
        "    print(\"your guess is low \")\n",
        "    ## checking if guess is more than the generated number\n",
        "  elif guess > number:\n",
        "    print(\"your guess is high\")\n",
        "\n",
        "  else:\n",
        "      ## if the guess is right, loops get terminated by break keyword\n",
        "    print(\"Congratulations, you guessed it right!\")\n",
        "    break\n",
        "  ## if user does not guessed the right number in 5 guesses ,we will print the number with a message\n",
        "if number_of_guesses == 5 and guess != number:\n",
        "    print(\"Sorry, you've run out of guesses. The number was:\", number)"
      ],
      "metadata": {
        "colab": {
          "base_uri": "https://localhost:8080/"
        },
        "id": "m94SxPmObe8j",
        "outputId": "d82f7dc3-63c0-4532-cb95-a343300fbf6a"
      },
      "execution_count": 4,
      "outputs": [
        {
          "output_type": "stream",
          "name": "stdout",
          "text": [
            "Hello, What's your name?anshika\n",
            "ok anshika i am guessing a number between 1 and 10\n",
            "your guess10\n",
            "your guess is high\n",
            "your guess2\n",
            "your guess is low \n",
            "your guess5\n",
            "Congratulations, you guessed it right!\n"
          ]
        }
      ]
    },
    {
      "cell_type": "code",
      "source": [],
      "metadata": {
        "id": "2UwVv5bodDWf"
      },
      "execution_count": null,
      "outputs": []
    }
  ]
}